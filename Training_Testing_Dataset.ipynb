{
  "nbformat": 4,
  "nbformat_minor": 0,
  "metadata": {
    "colab": {
      "name": "Training Testing Dataset.ipynb",
      "provenance": [],
      "authorship_tag": "ABX9TyMNBBdWhqy6Ujolp9xdoDtz",
      "include_colab_link": true
    },
    "kernelspec": {
      "name": "python3",
      "display_name": "Python 3"
    },
    "accelerator": "GPU"
  },
  "cells": [
    {
      "cell_type": "markdown",
      "metadata": {
        "id": "view-in-github",
        "colab_type": "text"
      },
      "source": [
        "<a href=\"https://colab.research.google.com/github/sahil3Vedi/Enron-Email-Classifier/blob/master/Training_Testing_Dataset.ipynb\" target=\"_parent\"><img src=\"https://colab.research.google.com/assets/colab-badge.svg\" alt=\"Open In Colab\"/></a>"
      ]
    },
    {
      "cell_type": "code",
      "metadata": {
        "id": "nR2i3GLhXh1C",
        "colab_type": "code",
        "colab": {
          "base_uri": "https://localhost:8080/",
          "height": 34
        },
        "outputId": "536170f6-8f03-4212-e359-e2d446fb695b"
      },
      "source": [
        "pip install progress"
      ],
      "execution_count": 1,
      "outputs": [
        {
          "output_type": "stream",
          "text": [
            "Requirement already satisfied: progress in /usr/local/lib/python3.6/dist-packages (1.5)\n"
          ],
          "name": "stdout"
        }
      ]
    },
    {
      "cell_type": "code",
      "metadata": {
        "id": "me8k0wNN4O_v",
        "colab_type": "code",
        "colab": {
          "base_uri": "https://localhost:8080/",
          "height": 34
        },
        "outputId": "9a78d08d-0a3a-473a-c1ad-fe3c1524a6ac"
      },
      "source": [
        "from google.colab import drive\n",
        "drive.mount('/content/drive')"
      ],
      "execution_count": 2,
      "outputs": [
        {
          "output_type": "stream",
          "text": [
            "Drive already mounted at /content/drive; to attempt to forcibly remount, call drive.mount(\"/content/drive\", force_remount=True).\n"
          ],
          "name": "stdout"
        }
      ]
    },
    {
      "cell_type": "code",
      "metadata": {
        "id": "gbsJn9Xe4zsx",
        "colab_type": "code",
        "outputId": "a283ca4a-f6ab-4aa9-fbea-907884a58fc0",
        "colab": {
          "base_uri": "https://localhost:8080/",
          "height": 119
        }
      },
      "source": [
        "import csv\n",
        "import re\n",
        "import os\n",
        "import numpy as np\n",
        "import pandas as pd\n",
        "import nltk\n",
        "from nltk.corpus import stopwords\n",
        "nltk.download('punkt')\n",
        "nltk.download('stopwords')\n",
        "nltk.download('words')\n",
        "from pprint import pprint\n",
        "from progress.bar import Bar\n",
        "from sklearn.utils import shuffle"
      ],
      "execution_count": 10,
      "outputs": [
        {
          "output_type": "stream",
          "text": [
            "[nltk_data] Downloading package punkt to /root/nltk_data...\n",
            "[nltk_data]   Package punkt is already up-to-date!\n",
            "[nltk_data] Downloading package stopwords to /root/nltk_data...\n",
            "[nltk_data]   Package stopwords is already up-to-date!\n",
            "[nltk_data] Downloading package words to /root/nltk_data...\n",
            "[nltk_data]   Package words is already up-to-date!\n"
          ],
          "name": "stdout"
        }
      ]
    },
    {
      "cell_type": "code",
      "metadata": {
        "id": "tch0qxMU4_F-",
        "colab_type": "code",
        "colab": {}
      },
      "source": [
        "#SUPERVISED LEARNING\n",
        "#Import Bag of Words csv\n",
        "#Create training and testing data"
      ],
      "execution_count": 0,
      "outputs": []
    },
    {
      "cell_type": "code",
      "metadata": {
        "id": "iZsTk4qm7txw",
        "colab_type": "code",
        "colab": {}
      },
      "source": [
        "stop_words = set(stopwords.words('english'))\n",
        "def generateVector(mail_string,bagofwords):\n",
        "  mail_vector = np.zeros(1000)\n",
        "  res = re.findall(r'\\w+', mail_string)\n",
        "  res.pop(0)\n",
        "  final_res = []\n",
        "  for each_word in res:\n",
        "    if ((each_word.isalpha()) and (each_word not in stop_words)) :\n",
        "      final_res.append(each_word)\n",
        "  vector_counter = 0\n",
        "  for each_word in bagofwords:\n",
        "    if each_word in final_res:\n",
        "      mail_vector[vector_counter]=1\n",
        "    vector_counter+=1\n",
        "\n",
        "  return mail_vector "
      ],
      "execution_count": 0,
      "outputs": []
    },
    {
      "cell_type": "code",
      "metadata": {
        "id": "LJABNVin5ArN",
        "colab_type": "code",
        "colab": {}
      },
      "source": [
        "X_train = []\n",
        "Y_train = []\n",
        "X_test = []\n",
        "Y_test = []\n",
        "\n",
        "ENRONSPAMDATASET = 'drive/My Drive/Enron Spam/spam'\n",
        "ENRONNOSPAMDATASET = 'drive/My Drive/Enron Spam/ham'\n",
        "BAGOFWORDS = 'drive/My Drive/Enron Spam/bagofwords.csv'\n",
        "\n",
        "bagofwords_data = pd.read_csv(BAGOFWORDS)\n",
        "bagofwords = bagofwords_data[bagofwords_data.columns[0]]\n",
        "\n"
      ],
      "execution_count": 0,
      "outputs": []
    },
    {
      "cell_type": "code",
      "metadata": {
        "id": "LAADeLvDU59a",
        "colab_type": "code",
        "colab": {}
      },
      "source": [
        "#Adding Spam Mails to X_test and Y_test\n",
        "bar1 = Bar('Processing', max=500)\n",
        "file_list = os.listdir(ENRONSPAMDATASET)[1000:]\n",
        "for each_file in file_list:\n",
        "  FILENAME = os.path.join(ENRONSPAMDATASET, each_file)\n",
        "  with open(FILENAME, 'r',encoding='utf-8',errors='ignore') as myfile:\n",
        "    data = myfile.read()\n",
        "    mail_vector = generateVector(data,bagofwords)\n",
        "    X_test.append(mail_vector)\n",
        "    Y_test.append(1)\n",
        "  bar1.next()\n",
        "bar1.finish()\n",
        "\n",
        "#Adding Non Spam Mails to X_test and Y_test\n",
        "bar2 = Bar('Processing', max=672)\n",
        "file_list = os.listdir(ENRONNOSPAMDATASET)[3000:]\n",
        "for each_file in file_list:\n",
        "  FILENAME = os.path.join(ENRONNOSPAMDATASET, each_file)\n",
        "  with open(FILENAME, 'r',encoding='utf-8',errors='ignore') as myfile:\n",
        "    data = myfile.read()\n",
        "    mail_vector = generateVector(data,bagofwords)\n",
        "    X_test.append(mail_vector)\n",
        "    Y_test.append(0)\n",
        "  bar2.next()\n",
        "bar2.finish()"
      ],
      "execution_count": 0,
      "outputs": []
    },
    {
      "cell_type": "code",
      "metadata": {
        "colab_type": "code",
        "id": "l3W-MyRyWnt_",
        "colab": {}
      },
      "source": [
        "X_test, Y_test = shuffle(X_test, Y_test)\n",
        "\n",
        "#saving numpy arrays\n",
        "XFile = 'drive/My Drive/Enron Spam/xtest.npy'\n",
        "np.save(XFile, X_test)\n",
        "\n",
        "YFile = 'drive/My Drive/Enron Spam/ytest.npy'\n",
        "np.save(YFile, Y_test)"
      ],
      "execution_count": 0,
      "outputs": []
    },
    {
      "cell_type": "code",
      "metadata": {
        "id": "Syou42GUYrEs",
        "colab_type": "code",
        "colab": {
          "base_uri": "https://localhost:8080/",
          "height": 51
        },
        "outputId": "bb74fd5c-c27b-43fe-8161-d4aa9b37bb99"
      },
      "source": [
        "print(len(X_test))\n",
        "print(len(Y_test))"
      ],
      "execution_count": 14,
      "outputs": [
        {
          "output_type": "stream",
          "text": [
            "1199\n",
            "1199\n"
          ],
          "name": "stdout"
        }
      ]
    },
    {
      "cell_type": "code",
      "metadata": {
        "id": "-pPuW745ZONa",
        "colab_type": "code",
        "colab": {
          "base_uri": "https://localhost:8080/",
          "height": 51
        },
        "outputId": "5a5c45ad-ffbf-4aae-bbe7-e0ff2c115cfc"
      },
      "source": [
        "print(len(os.listdir(ENRONSPAMDATASET)))\n",
        "print(len(os.listdir(ENRONNOSPAMDATASET)))"
      ],
      "execution_count": 16,
      "outputs": [
        {
          "output_type": "stream",
          "text": [
            "1518\n",
            "3681\n"
          ],
          "name": "stdout"
        }
      ]
    }
  ]
}