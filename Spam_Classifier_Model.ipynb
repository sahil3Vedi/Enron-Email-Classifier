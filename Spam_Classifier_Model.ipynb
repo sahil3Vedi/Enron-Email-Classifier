{
  "nbformat": 4,
  "nbformat_minor": 0,
  "metadata": {
    "colab": {
      "name": "Spam Classifier Model.ipynb",
      "provenance": [],
      "authorship_tag": "ABX9TyPufhFGGRCcXzzIszu8DU0g",
      "include_colab_link": true
    },
    "kernelspec": {
      "name": "python3",
      "display_name": "Python 3"
    }
  },
  "cells": [
    {
      "cell_type": "markdown",
      "metadata": {
        "id": "view-in-github",
        "colab_type": "text"
      },
      "source": [
        "<a href=\"https://colab.research.google.com/github/sahil3Vedi/Enron-Email-Classifier/blob/master/Spam_Classifier_Model.ipynb\" target=\"_parent\"><img src=\"https://colab.research.google.com/assets/colab-badge.svg\" alt=\"Open In Colab\"/></a>"
      ]
    },
    {
      "cell_type": "code",
      "metadata": {
        "id": "i_-B4XDaat55",
        "colab_type": "code",
        "colab": {
          "base_uri": "https://localhost:8080/",
          "height": 34
        },
        "outputId": "ab4b5c1e-a485-411d-da95-3edcbc36d957"
      },
      "source": [
        "from google.colab import drive\n",
        "drive.mount('/content/drive')"
      ],
      "execution_count": 1,
      "outputs": [
        {
          "output_type": "stream",
          "text": [
            "Drive already mounted at /content/drive; to attempt to forcibly remount, call drive.mount(\"/content/drive\", force_remount=True).\n"
          ],
          "name": "stdout"
        }
      ]
    },
    {
      "cell_type": "code",
      "metadata": {
        "id": "31sHwTxKavIR",
        "colab_type": "code",
        "colab": {}
      },
      "source": [
        "import csv\n",
        "import re\n",
        "import os\n",
        "import numpy as np\n",
        "from sklearn.metrics import confusion_matrix\n",
        "from sklearn.naive_bayes import MultinomialNB\n",
        "from sklearn.svm import LinearSVC\n",
        "from sklearn.metrics import accuracy_score"
      ],
      "execution_count": 0,
      "outputs": []
    },
    {
      "cell_type": "code",
      "metadata": {
        "id": "uwJ6Hwpza7ma",
        "colab_type": "code",
        "colab": {}
      },
      "source": [
        "ENRONFOLDER = 'drive/My Drive/Enron Spam/'\n",
        "XTRAIN_LOC = 'drive/My Drive/Enron Spam/xtrain.npy'\n",
        "YTRAIN_LOC = 'drive/My Drive/Enron Spam/ytrain.npy'\n",
        "XTEST_LOC = 'drive/My Drive/Enron Spam/xtest.npy'\n",
        "YTEST_LOC = 'drive/My Drive/Enron Spam/ytest.npy'\n",
        "\n",
        "X_train = np.load(XTRAIN_LOC)\n",
        "Y_train = np.load(YTRAIN_LOC)\n",
        "X_test = np.load(XTEST_LOC)\n",
        "Y_test = np.load(YTEST_LOC)"
      ],
      "execution_count": 0,
      "outputs": []
    },
    {
      "cell_type": "code",
      "metadata": {
        "id": "yJXBeYkjfEdc",
        "colab_type": "code",
        "colab": {
          "base_uri": "https://localhost:8080/",
          "height": 85
        },
        "outputId": "8947645c-1a31-420c-83b5-bf3c7567bacc"
      },
      "source": [
        "#Training SVM and Naive Bayes Classifier\n",
        "\n",
        "model1 = MultinomialNB()\n",
        "model2 = LinearSVC()\n",
        "model1.fit(X_train, Y_train)\n",
        "model2.fit(X_train, Y_train)"
      ],
      "execution_count": 4,
      "outputs": [
        {
          "output_type": "execute_result",
          "data": {
            "text/plain": [
              "LinearSVC(C=1.0, class_weight=None, dual=True, fit_intercept=True,\n",
              "          intercept_scaling=1, loss='squared_hinge', max_iter=1000,\n",
              "          multi_class='ovr', penalty='l2', random_state=None, tol=0.0001,\n",
              "          verbose=0)"
            ]
          },
          "metadata": {
            "tags": []
          },
          "execution_count": 4
        }
      ]
    },
    {
      "cell_type": "code",
      "metadata": {
        "id": "QQEfJhRognBE",
        "colab_type": "code",
        "colab": {
          "base_uri": "https://localhost:8080/",
          "height": 119
        },
        "outputId": "b7d42ce3-92d9-44ec-d87f-3bbb65c13a46"
      },
      "source": [
        "result1 = model1.predict(X_test)\n",
        "result2 = model2.predict(X_test)\n",
        "\n",
        "print(confusion_matrix(Y_test,result1))\n",
        "print(accuracy_score(Y_test,result1))\n",
        "\n",
        "print(confusion_matrix(Y_test,result2))\n",
        "print(accuracy_score(Y_test,result2))"
      ],
      "execution_count": 6,
      "outputs": [
        {
          "output_type": "stream",
          "text": [
            "[[629  52]\n",
            " [ 44 474]]\n",
            "0.9199332777314428\n",
            "[[661  20]\n",
            " [ 34 484]]\n",
            "0.9549624687239366\n"
          ],
          "name": "stdout"
        }
      ]
    },
    {
      "cell_type": "code",
      "metadata": {
        "id": "cJhNJnEHibKd",
        "colab_type": "code",
        "colab": {}
      },
      "source": [
        ""
      ],
      "execution_count": 0,
      "outputs": []
    }
  ]
}