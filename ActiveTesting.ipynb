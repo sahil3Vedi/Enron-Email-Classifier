{
  "nbformat": 4,
  "nbformat_minor": 0,
  "metadata": {
    "colab": {
      "name": "ActiveTesting.ipynb",
      "provenance": [],
      "authorship_tag": "ABX9TyNgUXt2dtnVN3qMDLu0gKVT",
      "include_colab_link": true
    },
    "kernelspec": {
      "name": "python3",
      "display_name": "Python 3"
    }
  },
  "cells": [
    {
      "cell_type": "markdown",
      "metadata": {
        "id": "view-in-github",
        "colab_type": "text"
      },
      "source": [
        "<a href=\"https://colab.research.google.com/github/sahil3Vedi/Enron-Email-Classifier/blob/master/ActiveTesting.ipynb\" target=\"_parent\"><img src=\"https://colab.research.google.com/assets/colab-badge.svg\" alt=\"Open In Colab\"/></a>"
      ]
    },
    {
      "cell_type": "code",
      "metadata": {
        "id": "w7vvqUUHZKUx",
        "colab_type": "code",
        "outputId": "8bac8b57-4459-42e3-8696-3263318aebf9",
        "colab": {
          "base_uri": "https://localhost:8080/",
          "height": 34
        }
      },
      "source": [
        "from google.colab import drive\n",
        "drive.mount('/content/drive')"
      ],
      "execution_count": 6,
      "outputs": [
        {
          "output_type": "stream",
          "text": [
            "Drive already mounted at /content/drive; to attempt to forcibly remount, call drive.mount(\"/content/drive\", force_remount=True).\n"
          ],
          "name": "stdout"
        }
      ]
    },
    {
      "cell_type": "code",
      "metadata": {
        "id": "QUaocuaQZatZ",
        "colab_type": "code",
        "colab": {}
      },
      "source": [
        "import os\n",
        "import numpy as np\n",
        "from sklearn.svm import LinearSVC\n",
        "import random\n",
        "import matplotlib.pyplot as plt"
      ],
      "execution_count": 0,
      "outputs": []
    },
    {
      "cell_type": "code",
      "metadata": {
        "id": "cuD3XExaZpx9",
        "colab_type": "code",
        "outputId": "dc95f827-c272-42e9-8ffa-e476c6443c45",
        "colab": {
          "base_uri": "https://localhost:8080/",
          "height": 85
        }
      },
      "source": [
        "#TRAINING\n",
        "ENRONFOLDER = 'drive/My Drive/Enron Spam/'\n",
        "ANNO_LOC = 'drive/My Drive/Enron Spam/annotations.npy'\n",
        "ANNOIND_LOC = 'drive/My Drive/Enron Spam/annotation_indices.npy'\n",
        "FEATURES_LOC = 'drive/My Drive/Enron Spam/featureVectors.npy'\n",
        "ENRONNOSPAMDATASET = 'drive/My Drive/Enron Spam/ham'\n",
        "\n",
        "features = np.load(FEATURES_LOC)\n",
        "ANNO = np.load(ANNOIND_LOC)\n",
        "X_train = []\n",
        "for each_index in ANNO:\n",
        "  X_train.append(features[each_index])\n",
        "Y_train = np.load(ANNO_LOC)\n",
        "\n",
        "model1 = LinearSVC()\n",
        "model1.fit(X_train, Y_train)"
      ],
      "execution_count": 8,
      "outputs": [
        {
          "output_type": "execute_result",
          "data": {
            "text/plain": [
              "LinearSVC(C=1.0, class_weight=None, dual=True, fit_intercept=True,\n",
              "          intercept_scaling=1, loss='squared_hinge', max_iter=1000,\n",
              "          multi_class='ovr', penalty='l2', random_state=None, tol=0.0001,\n",
              "          verbose=0)"
            ]
          },
          "metadata": {
            "tags": []
          },
          "execution_count": 8
        }
      ]
    },
    {
      "cell_type": "code",
      "metadata": {
        "id": "dZcHSk_LbJVK",
        "colab_type": "code",
        "colab": {}
      },
      "source": [
        "#TESTING\n",
        "def fetchLabel(mailIndex):\n",
        "  twoD_array = []\n",
        "  feature_vector = features[mailIndex]\n",
        "  twoD_array.append(feature_vector)\n",
        "  file_location = os.listdir(ENRONNOSPAMDATASET)[mailIndex]\n",
        "  FILENAME = os.path.join(ENRONNOSPAMDATASET, file_location)\n",
        "  with open(FILENAME, 'r',encoding='utf-8',errors='ignore') as myfile:\n",
        "    data = myfile.read()\n",
        "    #print(\"Message Contents: \")\n",
        "    #print(data)\n",
        "    #print(\"Classifier Label: \")\n",
        "    result = model1.predict(twoD_array)[0]\n",
        "    return result"
      ],
      "execution_count": 0,
      "outputs": []
    },
    {
      "cell_type": "code",
      "metadata": {
        "id": "VVALjpKOc0RS",
        "colab_type": "code",
        "colab": {
          "base_uri": "https://localhost:8080/",
          "height": 51
        },
        "outputId": "e1fb92dc-0cdc-4d72-d5b1-c09a656189ba"
      },
      "source": [
        "results = []\n",
        "for x in range(1000):\n",
        "  label = fetchLabel(x)\n",
        "  results.append(label)\n",
        "print(results.count(0))\n",
        "print(results.count(1))"
      ],
      "execution_count": 12,
      "outputs": [
        {
          "output_type": "stream",
          "text": [
            "838\n",
            "162\n"
          ],
          "name": "stdout"
        }
      ]
    }
  ]
}