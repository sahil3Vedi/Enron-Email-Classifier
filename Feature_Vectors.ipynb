{
  "nbformat": 4,
  "nbformat_minor": 0,
  "metadata": {
    "colab": {
      "name": "Feature Vectors.ipynb",
      "provenance": [],
      "collapsed_sections": [],
      "authorship_tag": "ABX9TyOVthuzZmlqYZJtPy7SY83n",
      "include_colab_link": true
    },
    "kernelspec": {
      "name": "python3",
      "display_name": "Python 3"
    },
    "accelerator": "GPU"
  },
  "cells": [
    {
      "cell_type": "markdown",
      "metadata": {
        "id": "view-in-github",
        "colab_type": "text"
      },
      "source": [
        "<a href=\"https://colab.research.google.com/github/sahil3Vedi/Enron-Email-Classifier/blob/master/Feature_Vectors.ipynb\" target=\"_parent\"><img src=\"https://colab.research.google.com/assets/colab-badge.svg\" alt=\"Open In Colab\"/></a>"
      ]
    },
    {
      "cell_type": "code",
      "metadata": {
        "id": "OOYyn4sPst5x",
        "colab_type": "code",
        "outputId": "09d1bc7a-7e8b-4aac-a1be-83b3df3393f8",
        "colab": {
          "base_uri": "https://localhost:8080/",
          "height": 34
        }
      },
      "source": [
        "from google.colab import drive\n",
        "drive.mount('/content/drive')"
      ],
      "execution_count": 1,
      "outputs": [
        {
          "output_type": "stream",
          "text": [
            "Drive already mounted at /content/drive; to attempt to forcibly remount, call drive.mount(\"/content/drive\", force_remount=True).\n"
          ],
          "name": "stdout"
        }
      ]
    },
    {
      "cell_type": "code",
      "metadata": {
        "id": "2KDj-JR8tCTL",
        "colab_type": "code",
        "outputId": "f7848216-0968-4db5-baf2-e2d06e2a7600",
        "colab": {
          "base_uri": "https://localhost:8080/",
          "height": 136
        }
      },
      "source": [
        "import csv\n",
        "import re\n",
        "import os\n",
        "import numpy as np\n",
        "import pandas as pd\n",
        "import nltk\n",
        "from nltk.corpus import stopwords\n",
        "nltk.download('punkt')\n",
        "nltk.download('stopwords')\n",
        "nltk.download('words')"
      ],
      "execution_count": 2,
      "outputs": [
        {
          "output_type": "stream",
          "text": [
            "[nltk_data] Downloading package punkt to /root/nltk_data...\n",
            "[nltk_data]   Package punkt is already up-to-date!\n",
            "[nltk_data] Downloading package stopwords to /root/nltk_data...\n",
            "[nltk_data]   Package stopwords is already up-to-date!\n",
            "[nltk_data] Downloading package words to /root/nltk_data...\n",
            "[nltk_data]   Package words is already up-to-date!\n"
          ],
          "name": "stdout"
        },
        {
          "output_type": "execute_result",
          "data": {
            "text/plain": [
              "True"
            ]
          },
          "metadata": {
            "tags": []
          },
          "execution_count": 2
        }
      ]
    },
    {
      "cell_type": "code",
      "metadata": {
        "id": "l2S-K3RutC9D",
        "colab_type": "code",
        "colab": {}
      },
      "source": [
        "ENRONNOSPAMDATASET = 'drive/My Drive/Enron Spam/ham'\n",
        "BAGOFWORDS = 'drive/My Drive/Enron Spam/bagofwords.csv'\n",
        "\n",
        "bagofwords_data = pd.read_csv(BAGOFWORDS)\n",
        "bagofwords = bagofwords_data[bagofwords_data.columns[0]]"
      ],
      "execution_count": 0,
      "outputs": []
    },
    {
      "cell_type": "code",
      "metadata": {
        "id": "CxA4nmIcvFzS",
        "colab_type": "code",
        "colab": {}
      },
      "source": [
        "stop_words = set(stopwords.words('english'))\n",
        "def generateVector(mail_string,bagofwords):\n",
        "  feature_vector = np.zeros(1000)\n",
        "  res = re.findall(r'\\w+', mail_string)\n",
        "  res.pop(0)\n",
        "  final_res = []\n",
        "  for each_word in res:\n",
        "    if ((each_word.isalpha()) and (each_word not in stop_words)) :\n",
        "      final_res.append(each_word)\n",
        "  vector_counter = 0\n",
        "  for each_word in bagofwords:\n",
        "    if each_word in final_res:\n",
        "      feature_vector[vector_counter]=1\n",
        "    vector_counter+=1\n",
        "\n",
        "  return feature_vector"
      ],
      "execution_count": 0,
      "outputs": []
    },
    {
      "cell_type": "code",
      "metadata": {
        "id": "Tu5P55xpuclb",
        "colab_type": "code",
        "outputId": "5b6a365c-8288-4ea1-d0e4-94438a8cff0d",
        "colab": {
          "base_uri": "https://localhost:8080/",
          "height": 34
        }
      },
      "source": [
        "feature_vectors = []\n",
        "\n",
        "file_list = os.listdir(ENRONNOSPAMDATASET)\n",
        "for each_file in file_list:\n",
        "  FILENAME = os.path.join(ENRONNOSPAMDATASET, each_file)\n",
        "  with open(FILENAME, 'r',encoding='utf-8',errors='ignore') as myfile:\n",
        "    data = myfile.read()\n",
        "    feature_vector = generateVector(data,bagofwords)\n",
        "    feature_vectors.append(feature_vector)\n",
        "\n",
        "print(len(feature_vectors))"
      ],
      "execution_count": 5,
      "outputs": [
        {
          "output_type": "stream",
          "text": [
            "3681\n"
          ],
          "name": "stdout"
        }
      ]
    },
    {
      "cell_type": "code",
      "metadata": {
        "id": "cIL6wW1rwJiN",
        "colab_type": "code",
        "colab": {}
      },
      "source": [
        "#saving numpy arrays\n",
        "featureFile = 'drive/My Drive/Enron Spam/featureVectors.npy'\n",
        "np.save(featureFile, feature_vectors)"
      ],
      "execution_count": 0,
      "outputs": []
    },
    {
      "cell_type": "code",
      "metadata": {
        "id": "yOAziXU_3u5i",
        "colab_type": "code",
        "colab": {
          "base_uri": "https://localhost:8080/",
          "height": 34
        },
        "outputId": "6bbbf8e2-8379-4d30-d796-66f6f8764f73"
      },
      "source": [
        "print(len(feature_vectors))"
      ],
      "execution_count": 8,
      "outputs": [
        {
          "output_type": "stream",
          "text": [
            "3681\n"
          ],
          "name": "stdout"
        }
      ]
    }
  ]
}